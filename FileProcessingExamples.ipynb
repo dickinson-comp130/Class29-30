{
 "cells": [
  {
   "cell_type": "markdown",
   "metadata": {},
   "source": [
    "# Class 29-30 - File Processing Examples\n",
    "**COMP130 - Introduction to Computing**  \n",
    "**Dickinson College**  "
   ]
  },
  {
   "cell_type": "markdown",
   "metadata": {},
   "source": [
    "### Creating Plain Text Files"
   ]
  },
  {
   "cell_type": "markdown",
   "metadata": {},
   "source": [
    "A *plain text* file contains only characters, and very commonly only the characters in the *ASCII set*.  It does not contain any *formatting information* such fonts, italics, boldface, colors and such.  These files can be created using lots of different tools such as:\n",
    "- TextEdit on Mac (Use settings to choose *plain text*)\n",
    "- Notepad on Windows\n",
    "- gedit on Linux\n",
    "- __Text File option in the JupyterLab launcher__\n",
    "- and many many others.\n",
    "\n",
    "Plain text data is extremely *portable*.  Files created in one plain text editor can be opened in another.  Files created on one type of computer can be opened on another.  Files written (saved) by one program can be read (opened) by others.  This portability makes plain text files a very common medium for sharing data.\n",
    "\n",
    "We will create a plain text file named `sample.txt` using the JupyterLab Text File editor and then open it in another application."
   ]
  },
  {
   "cell_type": "code",
   "execution_count": null,
   "metadata": {},
   "outputs": [],
   "source": []
  },
  {
   "cell_type": "markdown",
   "metadata": {},
   "source": [
    "### Reading Plain Text Files in Python\n",
    "\n",
    "Python programs can open plain text files."
   ]
  },
  {
   "cell_type": "code",
   "execution_count": null,
   "metadata": {},
   "outputs": [],
   "source": [
    "in_file = open('sample.txt')"
   ]
  },
  {
   "cell_type": "markdown",
   "metadata": {},
   "source": [
    "Each call to the `readline` method of the file returns the next line from the file."
   ]
  },
  {
   "cell_type": "code",
   "execution_count": null,
   "metadata": {},
   "outputs": [],
   "source": [
    "line = in_file.readline()\n",
    "print(line)"
   ]
  },
  {
   "cell_type": "markdown",
   "metadata": {},
   "source": [
    "A file should always be closed when you are finished using it."
   ]
  },
  {
   "cell_type": "code",
   "execution_count": null,
   "metadata": {},
   "outputs": [],
   "source": [
    "in_file.close()"
   ]
  },
  {
   "cell_type": "markdown",
   "metadata": {},
   "source": [
    "### Reading All of the Lines\n",
    "\n",
    "We can read all of the lines in a file using a `while` loop.  When all lines have been read `readline` returns an empty string, which is interpreted as `False` by Python."
   ]
  },
  {
   "cell_type": "code",
   "execution_count": null,
   "metadata": {},
   "outputs": [],
   "source": [
    "in_file = open('sample.txt')\n",
    "\n",
    "line = in_file.readline()\n",
    "while line:\n",
    "    print(line)\n",
    "    line = in_file.readline()\n",
    "    \n",
    "in_file.close()"
   ]
  },
  {
   "cell_type": "markdown",
   "metadata": {},
   "source": [
    "Like iterating over other things, Python provides a `for in` statement shortcut for reading all of the lines in a file."
   ]
  },
  {
   "cell_type": "code",
   "execution_count": null,
   "metadata": {},
   "outputs": [],
   "source": [
    "in_file = open('sample.txt')\n",
    "\n",
    "for line in in_file:\n",
    "    print(line)\n",
    "    \n",
    "in_file.close()"
   ]
  },
  {
   "cell_type": "markdown",
   "metadata": {},
   "source": [
    "### `readline` and the Newline Character\n",
    "\n",
    "Notice the extra blank lines in the output above. To understand where these extra lines are coming from, recall that when we print a `\\n` character the printing moves to the next line.  Notice the extra blank line at the end of the following output."
   ]
  },
  {
   "cell_type": "code",
   "execution_count": null,
   "metadata": {},
   "outputs": [],
   "source": [
    "print('---')\n",
    "print('This has \\nsome newline\\ncharacters in it\\n')\n",
    "print('---')"
   ]
  },
  {
   "cell_type": "markdown",
   "metadata": {},
   "source": [
    "Each line (except the last) in a plain text file has a *newline* character (`\\n`) at the end.  This tells the programs that read such files where each line ends.  Most programs use this as a signal to move to the next line before displaying any more text. It is why our text file is displayed with 5 lines in it. \n",
    "\n",
    "Lines read from a file using the `readline` method retain the *newline* (`\\n`) character at the end of the string. Thus, when we use `print` we get two new lines. One from the newline character in the string and one because `print` goes to the next line after printing."
   ]
  },
  {
   "cell_type": "code",
   "execution_count": null,
   "metadata": {},
   "outputs": [],
   "source": [
    "in_file = open('sample.txt')\n",
    "line = in_file.readline()\n",
    "in_file.close()\n",
    "\n",
    "print(\"--\")\n",
    "print(line)       # One newline from the \\n and one from print.\n",
    "print(\"--\")\n",
    "\n",
    "print(len(line))  # one more than appears when printed... that's the \\n"
   ]
  },
  {
   "cell_type": "markdown",
   "metadata": {},
   "source": [
    "If the newline is not desired the `strip` or `rstrip` method in the `String` class can be used."
   ]
  },
  {
   "cell_type": "code",
   "execution_count": null,
   "metadata": {},
   "outputs": [],
   "source": [
    "line = line.strip()\n",
    "print(len(line))\n",
    "print(\"--\")\n",
    "print(line)       # no more extra blank line.\n",
    "print(\"--\")"
   ]
  },
  {
   "cell_type": "markdown",
   "metadata": {},
   "source": [
    "### Splitting Strings\n",
    "\n",
    "When we have a string that is a collection of information (e.g. words separated by spaces, data separated by comma, etc) the `split` method from the `String` class can be used to divide it into its individual parts.  We can then access those individual parts using the `[ ]` notation, similar to accessing the characters in a `String`."
   ]
  },
  {
   "cell_type": "code",
   "execution_count": null,
   "metadata": {},
   "outputs": [],
   "source": [
    "in_file = open('sample.txt')\n",
    "line = in_file.readline()\n",
    "   \n",
    "words = line.split()    # Divide line at spaces.\n",
    "\n",
    "print(len(words))       # Work with individal words.\n",
    "print(words[0])\n",
    "print(words[1])\n",
    "print(words[2])\n",
    "\n",
    "in_file.close()"
   ]
  },
  {
   "cell_type": "code",
   "execution_count": null,
   "metadata": {},
   "outputs": [],
   "source": [
    "in_file = open('sample.txt')\n",
    "line = in_file.readline()\n",
    "   \n",
    "words = line.split()    \n",
    "\n",
    "print(len(words))      \n",
    "print(words[0])\n",
    "print(words[1])\n",
    "print(words[2])\n",
    "\n",
    "in_file.close()"
   ]
  },
  {
   "cell_type": "markdown",
   "metadata": {},
   "source": [
    "### Iterating over Split Strings\n",
    "\n",
    "Once a `String` is split we can iterate over the individual elements using a `while` loop."
   ]
  },
  {
   "cell_type": "code",
   "execution_count": null,
   "metadata": {},
   "outputs": [],
   "source": [
    "index = 0\n",
    "while index < len(words):\n",
    "    print(words[index])\n",
    "    index = index + 1"
   ]
  },
  {
   "cell_type": "markdown",
   "metadata": {},
   "source": [
    "Not surprisingly at this point Python also allows us to iterate over the elements using a `for in` loop."
   ]
  },
  {
   "cell_type": "code",
   "execution_count": null,
   "metadata": {},
   "outputs": [],
   "source": [
    "for word in words:\n",
    "    print(word)"
   ]
  },
  {
   "cell_type": "markdown",
   "metadata": {},
   "source": [
    "![Stop sign](stop.png)\n",
    "End of Class 29 material."
   ]
  },
  {
   "cell_type": "markdown",
   "metadata": {},
   "source": [
    "### Writing Files\n",
    "\n",
    "Python programs can write data into plain text files as well.  When writing to a text file it is necessary to include the newline character (`\\n`) anywhere you want a line to end."
   ]
  },
  {
   "cell_type": "code",
   "execution_count": null,
   "metadata": {},
   "outputs": [],
   "source": [
    "out_file = open('myfile.txt', 'w')\n",
    "\n",
    "out_file.write('Put me in a file.\\n')\n",
    "out_file.write('Me too!\\n')\n",
    "out_file.write('Hey, me three!')\n",
    "out_file.write(\"Don't forget me.\")\n",
    "\n",
    "out_file.close()"
   ]
  }
 ],
 "metadata": {
  "kernelspec": {
   "display_name": "Python 3",
   "language": "python",
   "name": "python3"
  },
  "language_info": {
   "codemirror_mode": {
    "name": "ipython",
    "version": 3
   },
   "file_extension": ".py",
   "mimetype": "text/x-python",
   "name": "python",
   "nbconvert_exporter": "python",
   "pygments_lexer": "ipython3",
   "version": "3.7.3"
  }
 },
 "nbformat": 4,
 "nbformat_minor": 2
}
