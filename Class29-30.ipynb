{
 "cells": [
  {
   "cell_type": "markdown",
   "metadata": {},
   "source": [
    "# Class 29-30 - File Processing  \n",
    "**COMP130 - Introduction to Computing**  \n",
    "**Dickinson College**  "
   ]
  },
  {
   "cell_type": "markdown",
   "metadata": {},
   "source": [
    "### Names:"
   ]
  },
  {
   "cell_type": "markdown",
   "metadata": {},
   "source": [
    "Benjamin Rush"
   ]
  },
  {
   "cell_type": "markdown",
   "metadata": {},
   "source": [
    "### Reading Plain Text Files"
   ]
  },
  {
   "cell_type": "markdown",
   "metadata": {},
   "source": [
    "__Q1:__ Create a plain text file in your `Clas29-30` folder named `quotes.txt`.  Enter at least 5 of your favorite quotations into the file.  Put the quote on one line and the name of the person to whom the quote is attributed on the next line.  For example the first few lines of the file might be:\n",
    ">Sometimes it is the people no one can imagine anything of who do the things no one can imagine.  \n",
    ">Alan Turing  \n",
    ">Fish are friends, not food.  \n",
    ">Bruce the Shark  \n",
    ">..."
   ]
  },
  {
   "cell_type": "markdown",
   "metadata": {},
   "source": [
    "__Q2:__ Write Python statements that open the `quotes.txt` file, read and print the first line of the file and then close the file."
   ]
  },
  {
   "cell_type": "code",
   "execution_count": null,
   "metadata": {},
   "outputs": [],
   "source": [
    "inQuotes = open(\"quotes.txt\")\n",
    "line = inQuotes.readline()\n",
    "print(line)\n",
    "inQuotes.close()\n"
   ]
  },
  {
   "cell_type": "markdown",
   "metadata": {},
   "source": [
    "__Q3:__ Write a program that prints out all of the lines in the `quotes.txt` file."
   ]
  },
  {
   "cell_type": "code",
   "execution_count": null,
   "metadata": {},
   "outputs": [],
   "source": [
    "inQuotes = open(\"quotes.txt\")\n",
    "line = inQuotes.readline()\n",
    "while line:\n",
    "    print(line)\n",
    "    line = inQuotes.readline()\n",
    "inQuotes.close()"
   ]
  },
  {
   "cell_type": "markdown",
   "metadata": {},
   "source": [
    "__Q4:__ Write a program that prints the total number lines and the total number of characters in your `quotes.txt` file. \n",
    "\n",
    "If you are on a Mac (or linux) you can check your answer using the command `wc quotes.txt` in the Terminal. Use `cd` to get to the directory containing `quotes.txt` then enter the above command.  This runs the `wc` program which will print out the number of lines, the number of words and the number of characters in the file."
   ]
  },
  {
   "cell_type": "code",
   "execution_count": null,
   "metadata": {},
   "outputs": [],
   "source": [
    "inQuotes = open(\"quotes.txt\")\n",
    "line = inQuotes.readline()\n",
    "lines = 0\n",
    "chars = 0\n",
    "while line:\n",
    "    lines = lines + 1\n",
    "    chars = chars + len(line)\n",
    "    line = inQuotes.readline()\n",
    "inQuotes.close()\n",
    "print(\"This file has\", lines, \"lines.\")\n",
    "print(\"This file has\", chars, \"characters.\")"
   ]
  },
  {
   "cell_type": "markdown",
   "metadata": {},
   "source": [
    "__Q5:__ What type of error occurs if you attempt to open a file that does not exist?"
   ]
  },
  {
   "cell_type": "code",
   "execution_count": null,
   "metadata": {},
   "outputs": [],
   "source": [
    "inQuotes = open(\"quAtes.txt\")"
   ]
  },
  {
   "cell_type": "markdown",
   "metadata": {},
   "source": [
    "A `FileNotFoundError` occurs when you attempt to open a file that is not in the specified directory."
   ]
  },
  {
   "cell_type": "markdown",
   "metadata": {},
   "source": [
    "__Q6:__ What type of error occurs if you attempt to read from a file after it has been closed?"
   ]
  },
  {
   "cell_type": "code",
   "execution_count": null,
   "metadata": {},
   "outputs": [],
   "source": [
    "inQuotes = open(\"quotes.txt\")\n",
    "line = inQuotes.readline()\n",
    "inQuotes.close()\n",
    "line = inQuotes.readline()"
   ]
  },
  {
   "cell_type": "markdown",
   "metadata": {},
   "source": [
    "A `ValueError` occurs when you try to perform an input/output operation on a file that is closed."
   ]
  },
  {
   "cell_type": "markdown",
   "metadata": {},
   "source": [
    "### Searching a File\n",
    "\n",
    "Then next few exercises use the `words.txt` file that is included in the `Class29-30` folder. This is a list of 113,809 recognized words that are valid for word games like Scrabble, crossword puzzles and other word games. This file was created by Grady Ward for the [Moby project](http://wikipedia.org/wiki/Moby_Project) and is now hosted on [the Grady Ward page](https://www.gutenberg.org/ebooks/author/1132) at [Project Gutenberg](https://www.gutenberg.org/wiki/Main_Page).  There are a number of other interesting text files that Grady had created available on that site and we'll use another later."
   ]
  },
  {
   "cell_type": "markdown",
   "metadata": {},
   "source": [
    "__Q7:__ Write a program that reads and prints out the first 10 words in the `words.txt` file."
   ]
  },
  {
   "cell_type": "code",
   "execution_count": null,
   "metadata": {},
   "outputs": [],
   "source": [
    "inWords = open(\"words.txt\")\n",
    "line = inWords.readline()\n",
    "for i in range(10):\n",
    "    words = line.split()\n",
    "    print(words[0])\n",
    "    line = inWords.readline()\n"
   ]
  },
  {
   "cell_type": "markdown",
   "metadata": {},
   "source": [
    "__Q8:__ Write a program that checks a word is valid for Scrabble.  The program:\n",
    "- prompts the user for a word\n",
    "- searches for it in the `words.txt` file\n",
    "- prints out if the word is valid or not.\n",
    "\n",
    "Encapsulate the functionality of searching for the word into its own function that returns `True` if the word is found and `False` if the word is not found. "
   ]
  },
  {
   "cell_type": "code",
   "execution_count": 4,
   "metadata": {},
   "outputs": [
    {
     "name": "stdout",
     "output_type": "stream",
     "text": [
      "Please enter a word to check for Scrabble: aar\n",
      "Sorry, that word is not valid for Scrabble.\n"
     ]
    }
   ],
   "source": [
    "wordRaw = input(\"Please enter a word to check for Scrabble: \")\n",
    "wordChk = wordRaw.lower().strip()\n",
    "assert len(wordChk) > 1, \"Scrabble words must have at least 2 letters.\"\n",
    "scrabOK = open(\"words.txt\")\n",
    "scrOKline = scrabOK.readline()\n",
    "found = False\n",
    "while scrOKline and found == False:\n",
    "    if scrOKline.find(wordChk) == 0  and len(wordChk) == len(scrOKline) - 1:\n",
    "        print(\"Found it! This is a valid word for Scrabble.\")\n",
    "        found = True\n",
    "    else:\n",
    "        scrOKline = scrabOK.readline()\n",
    "        if scrOKline == \"\":\n",
    "            print(\"Sorry, that word is not valid for Scrabble.\")\n",
    "            \n",
    "scrabOK.close()"
   ]
  },
  {
   "cell_type": "code",
   "execution_count": 5,
   "metadata": {},
   "outputs": [
    {
     "name": "stdout",
     "output_type": "stream",
     "text": [
      "Please enter a word to check for Scrabble: aah\n"
     ]
    },
    {
     "data": {
      "text/plain": [
       "True"
      ]
     },
     "execution_count": 5,
     "metadata": {},
     "output_type": "execute_result"
    }
   ],
   "source": [
    "def scrabWordChk(wordRaw):\n",
    "    wordChk = wordRaw.lower().strip()\n",
    "    assert len(wordChk) > 1, \"Scrabble words must have at least 2 letters.\"\n",
    "\n",
    "    scrabOK = open(\"words.txt\")\n",
    "    scrOKline = scrabOK.readline()\n",
    "    found = False\n",
    "    \n",
    "    while scrOKline and found == False:\n",
    "        if scrOKline.find(wordChk) == 0 and len(wordChk) == len(scrOKline) - 1:\n",
    "            return True\n",
    "        else:\n",
    "            scrOKline = scrabOK.readline()\n",
    "    \n",
    "    return False\n",
    "\n",
    "scrabOK.close()\n",
    "\n",
    "uWord = input(\"Please enter a word to check for Scrabble: \")\n",
    "scrabWordChk(uWord)"
   ]
  },
  {
   "cell_type": "markdown",
   "metadata": {},
   "source": [
    "__Q9:__ Write a program that prompts the user for a suffix and then prints all of the words in `words.txt` that end with that suffix. "
   ]
  },
  {
   "cell_type": "code",
   "execution_count": 1,
   "metadata": {},
   "outputs": [
    {
     "name": "stdout",
     "output_type": "stream",
     "text": [
      "Please enter a suffix to check in the Scrabble dictionary: ingly\n",
      "absorbingly\n",
      "\n",
      "accordingly\n",
      "\n",
      "achingly\n",
      "\n",
      "admiringly\n",
      "\n",
      "affectingly\n",
      "\n",
      "agonizingly\n",
      "\n",
      "amazingly\n",
      "\n",
      "annoyingly\n",
      "\n",
      "appetizingly\n",
      "\n",
      "astonishingly\n",
      "\n",
      "astoundingly\n",
      "\n",
      "becomingly\n",
      "\n",
      "bitingly\n",
      "\n",
      "bodingly\n",
      "\n",
      "boringly\n",
      "\n",
      "bowingly\n",
      "\n",
      "charmingly\n",
      "\n",
      "cooingly\n",
      "\n",
      "cryingly\n",
      "\n",
      "cunningly\n",
      "\n",
      "daringly\n",
      "\n",
      "disgustingly\n",
      "\n",
      "dotingly\n",
      "\n",
      "erringly\n",
      "\n",
      "exceedingly\n",
      "\n",
      "excruciatingly\n",
      "\n",
      "fetchingly\n",
      "\n",
      "frustratingly\n",
      "\n",
      "gapingly\n",
      "\n",
      "gibingly\n",
      "\n",
      "glaringly\n",
      "\n",
      "haltingly\n",
      "\n",
      "hauntingly\n",
      "\n",
      "humiliatingly\n",
      "\n",
      "illuminatingly\n",
      "\n",
      "imposingly\n",
      "\n",
      "increasingly\n",
      "\n",
      "infuriatingly\n",
      "\n",
      "inquiringly\n",
      "\n",
      "insultingly\n",
      "\n",
      "interestingly\n",
      "\n",
      "intriguingly\n",
      "\n",
      "irritatingly\n",
      "\n",
      "japingly\n",
      "\n",
      "jibingly\n",
      "\n",
      "jingly\n",
      "\n",
      "jokingly\n",
      "\n",
      "kiddingly\n",
      "\n",
      "kingly\n",
      "\n",
      "laughingly\n",
      "\n",
      "livingly\n",
      "\n",
      "longingly\n",
      "\n",
      "losingly\n",
      "\n",
      "lovingly\n",
      "\n",
      "lyingly\n",
      "\n",
      "menacingly\n",
      "\n",
      "misleadingly\n",
      "\n",
      "mockingly\n",
      "\n",
      "mopingly\n",
      "\n",
      "movingly\n",
      "\n",
      "musingly\n",
      "\n",
      "nauseatingly\n",
      "\n",
      "obligingly\n",
      "\n",
      "outstandingly\n",
      "\n",
      "overwhelmingly\n",
      "\n",
      "painstakingly\n",
      "\n",
      "paralyzingly\n",
      "\n",
      "pipingly\n",
      "\n",
      "pleasingly\n",
      "\n",
      "ploddingly\n",
      "\n",
      "plyingly\n",
      "\n",
      "posingly\n",
      "\n",
      "prevailingly\n",
      "\n",
      "promisingly\n",
      "\n",
      "pryingly\n",
      "\n",
      "pulingly\n",
      "\n",
      "ragingly\n",
      "\n",
      "rantingly\n",
      "\n",
      "ravingly\n",
      "\n",
      "reassuringly\n",
      "\n",
      "refreshingly\n",
      "\n",
      "resoundingly\n",
      "\n",
      "rovingly\n",
      "\n",
      "satisfyingly\n",
      "\n",
      "savingly\n",
      "\n",
      "seemingly\n",
      "\n",
      "shingly\n",
      "\n",
      "singly\n",
      "\n",
      "sneakingly\n",
      "\n",
      "sparingly\n",
      "\n",
      "staggeringly\n",
      "\n",
      "strikingly\n",
      "\n",
      "stunningly\n",
      "\n",
      "suffocatingly\n",
      "\n",
      "surpassingly\n",
      "\n",
      "surprisingly\n",
      "\n",
      "takingly\n",
      "\n",
      "tantalizingly\n",
      "\n",
      "taxingly\n",
      "\n",
      "temptingly\n",
      "\n",
      "terrifyingly\n",
      "\n",
      "threateningly\n",
      "\n",
      "thrillingly\n",
      "\n",
      "tingly\n",
      "\n",
      "tryingly\n",
      "\n",
      "unbecomingly\n",
      "\n",
      "unceasingly\n",
      "\n",
      "unerringly\n",
      "\n",
      "unfailingly\n",
      "\n",
      "unfeelingly\n",
      "\n",
      "unkingly\n",
      "\n",
      "unknowingly\n",
      "\n",
      "unrelentingly\n",
      "\n",
      "unthinkingly\n",
      "\n",
      "unwillingly\n",
      "\n",
      "unwittingly\n",
      "\n",
      "urgingly\n",
      "\n",
      "vexingly\n",
      "\n",
      "vyingly\n",
      "\n",
      "waveringly\n",
      "\n",
      "willingly\n",
      "\n",
      "wittingly\n",
      "\n",
      "wooingly\n",
      "\n",
      "The above 123 words all contain your suffix.\n"
     ]
    }
   ],
   "source": [
    "sufRaw = input(\"Please enter a suffix to check in the Scrabble dictionary: \")\n",
    "sufChk = sufRaw.lower().strip()\n",
    "\n",
    "scrabOK = open(\"words.txt\")\n",
    "scrOKline = scrabOK.readline()\n",
    "found = 0\n",
    "\n",
    "while scrOKline:\n",
    "    if len(scrOKline) > len(sufChk):\n",
    "        if scrOKline.find(sufChk) == len(scrOKline) - 1 - len(sufChk):\n",
    "            print(scrOKline)\n",
    "            found = found + 1\n",
    "    scrOKline = scrabOK.readline()\n",
    "\n",
    "scrabOK.close()\n",
    "\n",
    "if found > 0:\n",
    "    print(\"The above\", found, \"words all contain your suffix.\")\n",
    "else:\n",
    "    print(\"Sorry, no Scrabble words use that suffix.\")"
   ]
  },
  {
   "cell_type": "markdown",
   "metadata": {},
   "source": [
    "### Splitting Strings"
   ]
  },
  {
   "cell_type": "markdown",
   "metadata": {},
   "source": [
    "__Q10:__ Consider the following `String` variables:"
   ]
  },
  {
   "cell_type": "code",
   "execution_count": 7,
   "metadata": {
    "deletable": false,
    "editable": false
   },
   "outputs": [],
   "source": [
    "s1 = \"Grits ain’t grocery Eggs ain’t poultry And Mona Lisa was a man\"\n",
    "s2 = \"Everything gonna be alright this mornin'\"\n",
    "s3 = \"Born under a bad sign been down since I began to crawl\""
   ]
  },
  {
   "cell_type": "markdown",
   "metadata": {},
   "source": [
    "Write Python statements that use the `split` method and the `[ ]` notation to print out:\n",
    "- The 6th word (index 5) of `s1`\n",
    "- The last word of `s2`\n",
    "- The first word of `s3`"
   ]
  },
  {
   "cell_type": "code",
   "execution_count": 13,
   "metadata": {},
   "outputs": [
    {
     "name": "stdout",
     "output_type": "stream",
     "text": [
      "poultry\n",
      "mornin'\n",
      "Born\n"
     ]
    }
   ],
   "source": [
    "print(s1.split()[5])\n",
    "s2splat = len(s2.split()) - 1\n",
    "print(s2.split()[s2splat])\n",
    "print(s3.split()[0])"
   ]
  },
  {
   "cell_type": "markdown",
   "metadata": {},
   "source": [
    "__Q11:__ Write a program that prints out the words in your `quotes.txt` file one per line. Hint: In the body of a loop that reads the lines add a loop that iterates over the line split into words."
   ]
  },
  {
   "cell_type": "code",
   "execution_count": null,
   "metadata": {},
   "outputs": [],
   "source": [
    "inQuotes = open(\"quotes.txt\")\n",
    "line = inQuotes.readline().split()\n",
    "\n",
    "while line:\n",
    "    for j in range(len(line)):\n",
    "        print(line[j])\n",
    "    line = inQuotes.readline().split()\n",
    "\n",
    "inQuotes.close()"
   ]
  },
  {
   "cell_type": "markdown",
   "metadata": {},
   "source": [
    "__Q12:__ Copy your program from __Q4__ and extend it to print out the number of words in your `quotes.txt` file as well as the number of lines and the number of characters.  You can also check this result against the output of the `wc` program in the Terminal."
   ]
  },
  {
   "cell_type": "code",
   "execution_count": 20,
   "metadata": {},
   "outputs": [
    {
     "name": "stdout",
     "output_type": "stream",
     "text": [
      "This file has 10 lines.\n",
      "This file has 74 words.\n",
      "This file has 396 characters.\n"
     ]
    }
   ],
   "source": [
    "inQuotes = open(\"quotes.txt\")\n",
    "line = inQuotes.readline()\n",
    "lines = 0\n",
    "words = 0\n",
    "chars = 0\n",
    "while line:\n",
    "    lines = lines + 1\n",
    "    words = words + len(line.split())\n",
    "    chars = chars + len(line)\n",
    "    line = inQuotes.readline()\n",
    "inQuotes.close()\n",
    "print(\"This file has\", lines, \"lines.\")\n",
    "print(\"This file has\", words, \"words.\")\n",
    "print(\"This file has\", chars, \"characters.\")"
   ]
  },
  {
   "cell_type": "markdown",
   "metadata": {},
   "source": [
    "__Q13:__ The `split` method had another form that allows you to specify a *delimiter*.  A delimiter is a `String` that indicates where the splits should occur.  This allows the `split` method to be used to split up a string at points other than where there are spaces.  For example: `line.split(',')` will split the line at each comma.  What will the following program print:\n",
    "```Python\n",
    "s = 'This#is#a#different#type#of#delimiter'\n",
    "words=s.split('#')\n",
    "print(words[3])\n",
    "```"
   ]
  },
  {
   "cell_type": "markdown",
   "metadata": {},
   "source": [
    "\"different\""
   ]
  },
  {
   "cell_type": "markdown",
   "metadata": {},
   "source": [
    "__Q14:__ Delimiters can be more than one character in length as well.  What would the program in __Q13__ print if the delimiter had been `'#d'`.  If you are unsure... try it!"
   ]
  },
  {
   "cell_type": "markdown",
   "metadata": {},
   "source": [
    "IndexError: list index out of range"
   ]
  },
  {
   "cell_type": "markdown",
   "metadata": {},
   "source": [
    "### A Thesaurus\n",
    "\n",
    "Then next few exercises use the `mthesaur.txt` file that is included in the `Class29-30` folder. This file, which  contains 30,260 root words with a total of 2,520,264 synonyms, was also created by Grady Ward and can be found on [his Project Gutenberg page](https://www.gutenberg.org/ebooks/author/1132).  \n",
    "\n",
    "Each line in this file begins with a root word. The root word is followed by a `,` and then a `,` delimited list of synonyms.  For example:\n",
    ">unstoppable,certain,fated,fateful,indefeasible,ineluctable,inescapable,inevasible,inevitable,inexorable,inflexible,irresistible,irrevocable,necessary,relentless,resistless,sure,sure as death,sure as fate,unavoidable,uncontrollable,undeflectable,unpreventable,unyielding\n",
    "\n",
    "Here the root word is `unstoppable` and the remaining words are synonyms (or synonymous phrases)."
   ]
  },
  {
   "cell_type": "markdown",
   "metadata": {},
   "source": [
    "__Q15:___ Write statements that open the `mthesaur.txt` file, and print the first root word followed by the first synonym for that root word and close the file."
   ]
  },
  {
   "cell_type": "code",
   "execution_count": 67,
   "metadata": {},
   "outputs": [],
   "source": [
    "inThes = open(\"mthesaur.txt\")\n",
    "line = inThes.readline()\n",
    "while line:\n",
    "    # print(line.split(\",\")[:2])  This is WAY too long if we actually print it out.\n",
    "    line = inThes.readline()\n",
    "inThes.close()"
   ]
  },
  {
   "cell_type": "markdown",
   "metadata": {},
   "source": [
    "__Q16:__ Write a program that works like a thesaurus. It should:\n",
    "- Prompt the user for a word, or an empty line to quit.\n",
    "- Print out all of the synonyms for the word, one per line, or `Sorry. Your word was not found.`\n",
    "- Prompt the user for another word."
   ]
  },
  {
   "cell_type": "code",
   "execution_count": 44,
   "metadata": {},
   "outputs": [
    {
     "name": "stdout",
     "output_type": "stream",
     "text": [
      "Please enter a word for which you would like a synonym\n",
      "or just hit RETURN to quit. >> leave flat\n",
      "Your word is a synonym of abandon.\n",
      "Your word is a synonym of back out.\n",
      "Your word is a synonym of beg off.\n",
      "Your word is a synonym of depart from.\n",
      "Your word is a synonym of discard.\n",
      "Your word is a synonym of drop out.\n",
      "Your word is a synonym of evacuate.\n",
      "Your word is a synonym of forsake.\n",
      "Your word is a synonym of go back on.\n",
      "Your word is a synonym of jettison.\n",
      "Your word is a synonym of jilt.\n",
      "Your word is a synonym of leave behind.\n",
      "Your word is a synonym of leave.\n",
      "Your word is a synonym of maroon.\n",
      "Your word is a synonym of pull out.\n",
      "Your word is a synonym of quit.\n",
      "Your word is a synonym of renege.\n",
      "Your word is a synonym of stand down.\n",
      "Your word is a synonym of throw over.\n",
      "Your word is a synonym of vacate.\n",
      "Your word is a synonym of withdraw.\n",
      "I'm sorry, that word is not in our records.\n",
      "Please enter a word for which you would like a synonym\n",
      "or just hit RETURN to quit. >> \n",
      "Goodbye.\n"
     ]
    }
   ],
   "source": [
    "# This version of a thesaurus checks first to see if your word is a root word.\n",
    "# If it is not, it checks to see in how many places your word is listed as a synonym.\n",
    "\n",
    "# while loop variable to keep checking for a new word\n",
    "newWord = True\n",
    "\n",
    "while newWord == True:\n",
    "    # Open the thesaurus and set the search result variable.\n",
    "    inThes = open(\"mthesaur.txt\")\n",
    "    line = inThes.readline()\n",
    "    found = False\n",
    "    \n",
    "    print(\"Please enter a word for which you would like a synonym\")\n",
    "    uWord = input(\"or just hit RETURN to quit. >> \").lower().strip()\n",
    "    \n",
    "    # If a word was entered...\n",
    "    if uWord != \"\":\n",
    "        while line:\n",
    "            wordStart = line.find(uWord)\n",
    "            # print(wordStart) scaffolding\n",
    "            if wordStart >= 0:\n",
    "                words = line.split(\",\")\n",
    "                # print(words[0]) scaffolding\n",
    "                if wordStart == 0 and len(words[0]) == len(uWord):\n",
    "                    print(\"Your word is a root word. Here are the synonyms:\")\n",
    "                    for item in words:\n",
    "                        print(item)\n",
    "                        found = True\n",
    "            line = inThes.readline()\n",
    "        \n",
    "        # Closes and reopen the thesaurus so that you can search it from the start.\n",
    "        # Is there a way to avoid this?\n",
    "        inThes.close()\n",
    "        inThes = open(\"mthesaur.txt\")    \n",
    "        line = inThes.readline()\n",
    "\n",
    "        while line and found == False:  # Be clear on this condition!\n",
    "            wordStart = line.find(uWord)\n",
    "            # print(wordStart) scaffolding\n",
    "            if wordStart > 0:\n",
    "                words = line.split(\",\")\n",
    "                # print(words[0]) scaffolding\n",
    "                for word in words:\n",
    "                    if uWord == word:\n",
    "                        print(\"Your word is a synonym of\", words[0] + \".\")   \n",
    "            line = inThes.readline()    \n",
    "        if found == False:\n",
    "            print(\"I'm sorry, that word is not in our records.\")\n",
    "    else:\n",
    "        newWord = False\n",
    "        \n",
    "inThes.close()         \n",
    "print(\"Goodbye.\")"
   ]
  },
  {
   "cell_type": "markdown",
   "metadata": {},
   "source": [
    "### Optional Challenges"
   ]
  },
  {
   "cell_type": "markdown",
   "metadata": {},
   "source": [
    "__Q17:__ Write a crossword puzzle cheating program in a file named `xwordcheat.py`.  This program will:\n",
    "- Prompt the user for a string with a format like: `m,3:p,4:e,7`. This string indicates that you are looking for a word where the 3rd (index 2) letter is `m`, the 4th letter is `p` and the 7th letter is `e`.\n",
    "- Print out all words from `words.txt` that match the requirements."
   ]
  },
  {
   "cell_type": "code",
   "execution_count": 43,
   "metadata": {},
   "outputs": [
    {
     "name": "stdout",
     "output_type": "stream",
     "text": [
      "Please enter the 3 letters and their positions in the word for which you are looking.\n",
      "t,2:o,3:e,5\n",
      "_\n",
      "t\n",
      "o\n",
      "_\n",
      "e\n",
      "atone\n",
      "\n",
      "atoned\n",
      "\n",
      "atonement\n",
      "\n",
      "atonements\n",
      "\n",
      "atoner\n",
      "\n",
      "atoners\n",
      "\n",
      "atones\n",
      "\n",
      "ptoses\n",
      "\n",
      "stoae\n",
      "\n",
      "stogey\n",
      "\n",
      "stogeys\n",
      "\n",
      "stoke\n",
      "\n",
      "stoked\n",
      "\n",
      "stoker\n",
      "\n",
      "stokers\n",
      "\n",
      "stokes\n",
      "\n",
      "stokesia\n",
      "\n",
      "stokesias\n",
      "\n",
      "stole\n",
      "\n",
      "stoled\n",
      "\n",
      "stolen\n",
      "\n",
      "stoles\n",
      "\n",
      "stone\n",
      "\n",
      "stoned\n",
      "\n",
      "stoneflies\n",
      "\n",
      "stonefly\n",
      "\n",
      "stoner\n",
      "\n",
      "stoners\n",
      "\n",
      "stones\n",
      "\n",
      "stoney\n",
      "\n",
      "stope\n",
      "\n",
      "stoped\n",
      "\n",
      "stoper\n",
      "\n",
      "stopers\n",
      "\n",
      "stopes\n",
      "\n",
      "store\n",
      "\n",
      "stored\n",
      "\n",
      "storehouse\n",
      "\n",
      "storehouses\n",
      "\n",
      "storekeeper\n",
      "\n",
      "storekeepers\n",
      "\n",
      "storeroom\n",
      "\n",
      "storerooms\n",
      "\n",
      "stores\n",
      "\n",
      "storey\n",
      "\n",
      "storeyed\n",
      "\n",
      "storeys\n",
      "\n",
      "stove\n",
      "\n",
      "stover\n",
      "\n",
      "stovers\n",
      "\n",
      "stoves\n",
      "\n",
      "stowed\n",
      "\n",
      "The words above might fit in your crossword.\n"
     ]
    }
   ],
   "source": [
    "## xWordCheat.py\n",
    "\n",
    "uWord = input(\"Please enter the 3 letters and their positions in the word for which you are looking.\\n\").lower().strip()\n",
    "let1 = uWord[0]\n",
    "posA = int(uWord[2]) - 1\n",
    "let2 = uWord[4]\n",
    "posB = int(uWord[6]) - 1\n",
    "let3 = uWord[8]\n",
    "posC = int(uWord[10]) - 1\n",
    "\n",
    "for i in range(posC + 1):\n",
    "    if i == posA:\n",
    "        print(let1)\n",
    "    elif i == posB:\n",
    "        print(let2)\n",
    "    elif i == posC:\n",
    "        print(let3)\n",
    "    else:\n",
    "        print(\"_\")\n",
    "        \n",
    "inWords = open(\"words.txt\")\n",
    "line = inWords.readline()\n",
    "found = 0\n",
    "while line:\n",
    "    if len(line) > posC + 1:\n",
    "        if line[posA] == let1 and line[posB] == let2 and line[posC] == let3:\n",
    "                print(line)\n",
    "                found = found + 1\n",
    "    line = inWords.readline()\n",
    "\n",
    "inWords.close()  \n",
    "\n",
    "if found > 0:\n",
    "    print(\"The words above might fit in your crossword.\")"
   ]
  },
  {
   "cell_type": "markdown",
   "metadata": {},
   "source": [
    "![Stop sign](stop.png)\n",
    "End of Class 29 material."
   ]
  },
  {
   "cell_type": "markdown",
   "metadata": {},
   "source": [
    "### Opening Plain Text Files for Writing"
   ]
  },
  {
   "cell_type": "markdown",
   "metadata": {},
   "source": [
    "__Q18:__ Rearrange the statements below into a program that creates a plain text file containing the text:\n",
    "```\n",
    "one\n",
    "three two\n",
    "four\n",
    "```\n",
    "\n",
    "```Python\n",
    "num_file.write(nums[2] + ' ')\n",
    "num_file.close()\n",
    "num_file.write(nums[0] + '\\n')\n",
    "num_line = 'one,two,three,four'\n",
    "nums = num_line.split(',')\n",
    "num_file.write(nums[1])\n",
    "num_file = open('numbers.txt','w')\n",
    "num_file.write(nums[3])\n",
    "num_file.write('\\n')\n",
    "```\n",
    "\n",
    "Open the `numbers.txt` file in a text editor to see if you have it right."
   ]
  },
  {
   "cell_type": "code",
   "execution_count": 53,
   "metadata": {},
   "outputs": [],
   "source": [
    "num_file = open('numbers.txt','w')\n",
    "\n",
    "num_line = 'one,two,three,four'\n",
    "nums = num_line.split(',')\n",
    "num_file.write(nums[0] + '\\n')\n",
    "num_file.write(nums[2] + ' ')\n",
    "num_file.write(nums[1])\n",
    "num_file.write('\\n')\n",
    "num_file.write(nums[3])\n",
    "\n",
    "num_file.close()"
   ]
  },
  {
   "cell_type": "markdown",
   "metadata": {},
   "source": [
    "__Q19:__ What happens if you open a file that already exists for writing, write some text to it and close it?  Try it by writing statements that open the file from __Q18__ and write some new text into the file.  Then open the file in a text editor to see what happened."
   ]
  },
  {
   "cell_type": "code",
   "execution_count": 55,
   "metadata": {},
   "outputs": [],
   "source": [
    "num_file = open('numbers.txt','a')\n",
    "num_file.write(\"What will happen to this text?\\n\")\n",
    "num_file.close()"
   ]
  },
  {
   "cell_type": "markdown",
   "metadata": {},
   "source": [
    "The new text will replace the old text in the file!"
   ]
  },
  {
   "cell_type": "markdown",
   "metadata": {},
   "source": [
    "__Q20:__ What happens if you open a file that already exists using the argument `a` in place of `w`, write some text to it and close it? Try it out in the same way you did in __Q19__."
   ]
  },
  {
   "cell_type": "markdown",
   "metadata": {},
   "source": [
    "The new text appears on the line below the old text."
   ]
  },
  {
   "cell_type": "markdown",
   "metadata": {},
   "source": [
    "__Q21:__ Write a program that writes a file containing 4 columns of data in `csv` format.  The four columns are:\n",
    "- x\n",
    "- x^2\n",
    "- x^3\n",
    "- x^4\n",
    "\n",
    "The file should have a header row labeling the columns and then one row for each x value from 0 to 100.  The first few rows of the file should be:\n",
    "```\n",
    "x,x^2,x^3,x^4  \n",
    "0,0,0,0  \n",
    "1,1,1,1  \n",
    "2,4,8,16  \n",
    "...\n",
    "```\n",
    "Open the file using JupyterLab or Excel to see it nicely formatted into columns. "
   ]
  },
  {
   "cell_type": "code",
   "execution_count": 42,
   "metadata": {},
   "outputs": [],
   "source": [
    "powerChart = open('powers.csv','w')\n",
    "powerChart.write(\"x,x^2,x^3,x^4\\n\")\n",
    "for i in range(100):\n",
    "    powerChart.write(str(i) + \",\" + str(i ** 2) + \",\" + str(i ** 3) + \",\" + str(i ** 4) + \"\\n\")\n",
    "    \n",
    "powerChart.close()"
   ]
  },
  {
   "cell_type": "markdown",
   "metadata": {},
   "source": [
    "### Reading and Writing Text Files"
   ]
  },
  {
   "cell_type": "markdown",
   "metadata": {},
   "source": [
    "__Q22:__ Write a `file_copy` function.  The function should take two `String`s as parameters, the name of the file to be copied and the name that should be given to the copy.  The function should use the basic file reading and writing techniques we've learned to make an exact copy of the file to be copied into a file with the speified name.  Include a call to your function that copies your `quotes.txt` file into a file named `quotes.bak` (i.e. a backup file)."
   ]
  },
  {
   "cell_type": "code",
   "execution_count": 78,
   "metadata": {},
   "outputs": [
    {
     "name": "stdout",
     "output_type": "stream",
     "text": [
      "Your file is ready.\n"
     ]
    }
   ],
   "source": [
    "def file_copy(target, copy, mode):\n",
    "    inFile = open(target)\n",
    "    outFile = open(copy, mode)\n",
    "    inLine = inFile.readline()\n",
    "    while inLine:\n",
    "        outFile.write(inLine)\n",
    "        inLine = inFile.readline()\n",
    "    inFile.close()\n",
    "    outFile.close()\n",
    "    print(\"Your file is ready.\")\n",
    "\n",
    "file_copy(\"quotes.txt\", \"quotes.bak\", \"w\")"
   ]
  },
  {
   "cell_type": "markdown",
   "metadata": {},
   "source": [
    "__Q23:__ Write a program that extracts just the name of the _quotee_ for each of your quotes in `quotes.txt` and writes their names into a file named `quotees.txt`."
   ]
  },
  {
   "cell_type": "code",
   "execution_count": 3,
   "metadata": {},
   "outputs": [
    {
     "name": "stdout",
     "output_type": "stream",
     "text": [
      "Your quotees file is ready.\n"
     ]
    }
   ],
   "source": [
    "inFile = open(\"quotes.txt\")\n",
    "outFile = open(\"quotees.txt\", \"w\")\n",
    "inLine = inFile.readline()\n",
    "counter = 0\n",
    "while inLine:\n",
    "    if counter % 2 == 1:\n",
    "        outFile.write(inLine)\n",
    "    counter += 1\n",
    "    inLine = inFile.readline()\n",
    "inFile.close()\n",
    "outFile.close()\n",
    "print(\"Your quotees file is ready.\")    "
   ]
  },
  {
   "cell_type": "markdown",
   "metadata": {},
   "source": [
    "### Using File Paths"
   ]
  },
  {
   "cell_type": "markdown",
   "metadata": {},
   "source": [
    "__Q24:__ Using a Terminal and the `pwd` command determine the current working directory for this notebook."
   ]
  },
  {
   "cell_type": "markdown",
   "metadata": {},
   "source": [
    "/Users/lev/Documents/Dickinson/CS130/Class29-30-f19"
   ]
  },
  {
   "cell_type": "markdown",
   "metadata": {},
   "source": [
    "__Q25:__ The `mkdir` command can be used to create new directories in the Terminal.  For example, the command `mkdir places` will create a new sub-directory named `places` in whatever directory it is used in.  Using a Terminal and the `mkdir` command create a new sub-directory in your `Class29-30` folder.  Call the sub-directory whatever you like.  What is the absolute path to your new sub-directory?"
   ]
  },
  {
   "cell_type": "markdown",
   "metadata": {},
   "source": [
    "/Users/lev/Documents/Dickinson/CS130/Class29-30-f19/wickedStuff"
   ]
  },
  {
   "cell_type": "markdown",
   "metadata": {},
   "source": [
    "__Q26:__ Create a new text file in the sub-directory that you created in __Q25__ and fill it with at least 5 of your favorite song lyrics using a format like we did for quotes.  Call the text file whatever you like.  For example the first few lines might be:\n",
    ">Grits ain’t grocery, Eggs ain’t poultry, And Mona Lisa was a man  \n",
    ">Muddy Waters  \n",
    ">Everything gonna be alright this mornin'  \n",
    ">Little Milton  \n",
    ">..."
   ]
  },
  {
   "cell_type": "markdown",
   "metadata": {},
   "source": [
    "__Q27__ What is the *absolute path* to the new file you created in __Q25__?"
   ]
  },
  {
   "cell_type": "markdown",
   "metadata": {},
   "source": [
    "/Users/lev/Documents/Dickinson/CS130/Class29-30-f19/wickedStuff/lyricsIce.txt"
   ]
  },
  {
   "cell_type": "markdown",
   "metadata": {},
   "source": [
    "__Q28:__ What is the *relative path* from the `Class29-30` folder to the new file you created in __Q25__?"
   ]
  },
  {
   "cell_type": "markdown",
   "metadata": {},
   "source": [
    "wickedStuff/lyricsIce.txt"
   ]
  },
  {
   "cell_type": "markdown",
   "metadata": {},
   "source": [
    "__Q29:__ Write statements that use a *relative path* to open your file from __Q25__, read the first line, print it and then close the file."
   ]
  },
  {
   "cell_type": "code",
   "execution_count": 5,
   "metadata": {},
   "outputs": [
    {
     "name": "stdout",
     "output_type": "stream",
     "text": [
      "Don't look back.\n",
      "\n"
     ]
    }
   ],
   "source": [
    "inFile = open(\"wickedStuff/lyricsIce.txt\")\n",
    "print(inFile.readline())\n",
    "inFile.close()"
   ]
  },
  {
   "cell_type": "markdown",
   "metadata": {},
   "source": [
    "### Processing Data Files\n",
    "\n",
    "The [data.gov](https://www.data.gov/) site is a clearinghouse for open data sets.  It hosts over 250,000 freely available datasets. Many of these datasets are in the `csv` format that we have had experience with.  The next several exercises will give you some practice working with one."
   ]
  },
  {
   "cell_type": "markdown",
   "metadata": {},
   "source": [
    "__Q30:__ Download the _Farmers Markets Directory and Geographic Data_ dataset from Data.gov to your `Class29-30` folder.  You can find this data set by searching on `Data.gov` or by:\n",
    "- Click on the _Agriculture_ icon\n",
    "- Scroll down 5 or so entries to the _Farmers Markets Directory and Geographic Data_ and click on it.\n",
    "- Click on the link under _References_.  Note: Don't click the _Download_ button it doesn't do what you expect.\n",
    "- Move the file that is downloaded (`Export.csv`) into your `Class29-30` folder."
   ]
  },
  {
   "cell_type": "markdown",
   "metadata": {},
   "source": [
    "__Q31:__ Open the `Export.csv` file in JupyterLab to see it nicely formatted into columns. Which columns contain the following data:'\n",
    "- The state in which the market is located?\n",
    "- The city in which the market is located?\n",
    "- The name of the market?"
   ]
  },
  {
   "cell_type": "markdown",
   "metadata": {},
   "source": [
    "- Column K contains the state in which the market is located.\n",
    "- Column I contains the city in which the market is located.\n",
    "- Column B contains the name of the market?"
   ]
  },
  {
   "cell_type": "markdown",
   "metadata": {},
   "source": [
    "__Q32:__ Write statements that open the `Export.csv` file for reading, read the first line, print the state, city and the name of the market, and then close the file."
   ]
  },
  {
   "cell_type": "code",
   "execution_count": 48,
   "metadata": {},
   "outputs": [
    {
     "name": "stdout",
     "output_type": "stream",
     "text": [
      "Vermont, Danville,  Caledonia Farmers Market Association - Danville\n"
     ]
    }
   ],
   "source": [
    "fin = open(\"Export.csv\")\n",
    "line = fin.readline()\n",
    "line = fin.readline()\n",
    "fields = line.split(\",\")\n",
    "print(fields[10] + \",\", fields[8] + \",\", fields[1])\n",
    "fin.close()"
   ]
  },
  {
   "cell_type": "markdown",
   "metadata": {},
   "source": [
    "__Q33:__ Write a program that prompt the user for the name of a state and then creates a new `csv` file for that state that has one line for each market in that state.  The line for each market should list just the name of the market and the city in which the market is in.  For example, for _Pennyslvania_  some of the lines of the output file would be:\n",
    "\n",
    ">18th and Christian Farmers' Market,Philadelphia  \n",
    ">22nd and Tasker Farmers' Market,Philadelphia  \n",
    ">...  \n",
    ">Carlisle Farmers Market,Carlisle  \n",
    ">...\n"
   ]
  },
  {
   "cell_type": "code",
   "execution_count": 57,
   "metadata": {},
   "outputs": [
    {
     "name": "stdout",
     "output_type": "stream",
     "text": [
      "Please enter the name of a state. >> Pennsylvania\n",
      "Your state farmers market file is ready.\n"
     ]
    }
   ],
   "source": [
    "fIn = open(\"Export.csv\")\n",
    "line = fIn.readline()\n",
    "state = input(\"Please enter the name of a state. >> \")\n",
    "\n",
    "fOut = open(state + \"Markets.csv\", \"w\")\n",
    "\n",
    "while line:\n",
    "    market = line.split(\",\")\n",
    "    if state == market[10]:\n",
    "        fOut.write(market[1] + \",\" + market[8] + \"\\n\")\n",
    "    line = fIn.readline()\n",
    "\n",
    "fIn.close()\n",
    "fOut.close()\n",
    "print(\"Your state farmers market file is ready.\")"
   ]
  },
  {
   "cell_type": "markdown",
   "metadata": {},
   "source": [
    "### Optional Challenges"
   ]
  },
  {
   "cell_type": "markdown",
   "metadata": {},
   "source": [
    "__Q34:__ Modify your program from __Q22__ so that if the file being copied into already exists the user is prompted to cancel or overwrite the existing file. Hint: Use one of the methods from the `os` module to check if the file being copied into exits."
   ]
  },
  {
   "cell_type": "code",
   "execution_count": 64,
   "metadata": {},
   "outputs": [
    {
     "name": "stdout",
     "output_type": "stream",
     "text": [
      "Please enter the name of a state. >> Iowa\n",
      "That file already exists.\n",
      "Type c to cancel or o to overwrite.c\n",
      "Run the program again if you like.\n",
      "The state farmers market file can be read.\n"
     ]
    }
   ],
   "source": [
    "from os import path\n",
    "\n",
    "fIn = open(\"Export.csv\")\n",
    "line = fIn.readline()\n",
    "\n",
    "state = input(\"Please enter the name of a state. >> \")\n",
    "if path.exists(state + \"Markets.csv\") == True:\n",
    "    print(\"That file already exists.\")\n",
    "    retry = input(\"Type c to cancel or o to overwrite.\")\n",
    "    if retry == \"o\":   \n",
    "        fOut = open(state + \"Markets.csv\", \"w\")\n",
    "        while line:\n",
    "            market = line.split(\",\")\n",
    "            if state == market[10]:\n",
    "                fOut.write(market[1] + \",\" + market[8] + \"\\n\")\n",
    "            line = fIn.readline()\n",
    "    else:\n",
    "        print(\"Run the program again if you like.\")\n",
    "else:\n",
    "    fOut = open(state + \"Markets.csv\", \"w\")\n",
    "    while line:\n",
    "        market = line.split(\",\")\n",
    "        if state == market[10]:\n",
    "            fOut.write(market[1] + \",\" + market[8] + \"\\n\")\n",
    "        line = fIn.readline()\n",
    "    \n",
    "fIn.close()\n",
    "fOut.close()\n",
    "print(\"The state farmers market file can be read.\")"
   ]
  },
  {
   "cell_type": "markdown",
   "metadata": {},
   "source": [
    "__Q35:__ Write a program that *thesaurisizes* your `quotes.txt` file into a file named `mangled-quotes.txt`.  This program should read the `quotes.txt` file and for each quote, each word should be replaced with a random synonym from the `mthesaur.txt` file. If a word is not in the `mthesaur.txt` file it should appear unchanged in the new file."
   ]
  },
  {
   "cell_type": "code",
   "execution_count": 66,
   "metadata": {},
   "outputs": [
    {
     "ename": "UnsupportedOperation",
     "evalue": "not readable",
     "output_type": "error",
     "traceback": [
      "\u001b[0;31m---------------------------------------------------------------------------\u001b[0m",
      "\u001b[0;31mUnsupportedOperation\u001b[0m                      Traceback (most recent call last)",
      "\u001b[0;32m<ipython-input-66-8f580b0e9108>\u001b[0m in \u001b[0;36m<module>\u001b[0;34m\u001b[0m\n\u001b[1;32m     15\u001b[0m \u001b[0mthes\u001b[0m \u001b[0;34m=\u001b[0m \u001b[0mopen\u001b[0m\u001b[0;34m(\u001b[0m\u001b[0;34m\"mthesaur.txt\"\u001b[0m\u001b[0;34m)\u001b[0m\u001b[0;34m\u001b[0m\u001b[0;34m\u001b[0m\u001b[0m\n\u001b[1;32m     16\u001b[0m \u001b[0mquotesOnly\u001b[0m \u001b[0;34m=\u001b[0m \u001b[0mopen\u001b[0m\u001b[0;34m(\u001b[0m\u001b[0;34m\"quotesOnly.txt\"\u001b[0m\u001b[0;34m,\u001b[0m \u001b[0;34m\"w\"\u001b[0m\u001b[0;34m)\u001b[0m\u001b[0;34m\u001b[0m\u001b[0;34m\u001b[0m\u001b[0m\n\u001b[0;32m---> 17\u001b[0;31m \u001b[0mlineQ\u001b[0m \u001b[0;34m=\u001b[0m \u001b[0mquotesOnly\u001b[0m\u001b[0;34m.\u001b[0m\u001b[0mreadline\u001b[0m\u001b[0;34m(\u001b[0m\u001b[0;34m)\u001b[0m\u001b[0;34m\u001b[0m\u001b[0;34m\u001b[0m\u001b[0m\n\u001b[0m\u001b[1;32m     18\u001b[0m \u001b[0mlineT\u001b[0m \u001b[0;34m=\u001b[0m \u001b[0mthes\u001b[0m\u001b[0;34m.\u001b[0m\u001b[0mreadline\u001b[0m\u001b[0;34m(\u001b[0m\u001b[0;34m)\u001b[0m\u001b[0;34m\u001b[0m\u001b[0;34m\u001b[0m\u001b[0m\n\u001b[1;32m     19\u001b[0m \u001b[0;34m\u001b[0m\u001b[0m\n",
      "\u001b[0;31mUnsupportedOperation\u001b[0m: not readable"
     ]
    }
   ],
   "source": [
    "from random import randint\n",
    "\n",
    "quotesMax = open(\"quotes.txt\")\n",
    "quotesOnly = open(\"quotesOnly.txt\", \"w\")\n",
    "line = quotesMax.readline()\n",
    "lineCount = 0\n",
    "\n",
    "while line:\n",
    "    if lineCount % 2 == 0:\n",
    "        quotesOnly.write(line)\n",
    "    line = quotesMax.readline()\n",
    "\n",
    "quotesMax.close()\n",
    "thes = open(\"mthesaur.txt\")\n",
    "lineQ = quotesOnly.readline()\n",
    "lineT = thes.readline()\n",
    "\n",
    "while lineQ:\n",
    "    words = lineQ.split()\n",
    "    for word in words:\n",
    "        entry = lineT.split(\",\")\n",
    "        while lineT:\n",
    "            if word == entry[0]:\n",
    "                word = entry[randint(1, len(entry)-1)]\n"
   ]
  }
 ],
 "metadata": {
  "kernelspec": {
   "display_name": "Python 3",
   "language": "python",
   "name": "python3"
  },
  "language_info": {
   "codemirror_mode": {
    "name": "ipython",
    "version": 3
   },
   "file_extension": ".py",
   "mimetype": "text/x-python",
   "name": "python",
   "nbconvert_exporter": "python",
   "pygments_lexer": "ipython3",
   "version": "3.7.3"
  }
 },
 "nbformat": 4,
 "nbformat_minor": 2
}
