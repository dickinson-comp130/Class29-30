{
 "cells": [
  {
   "cell_type": "markdown",
   "metadata": {},
   "source": [
    "# Class 29-30 - File Processing  \n",
    "**COMP130 - Introduction to Computing**  \n",
    "**Dickinson College**  "
   ]
  },
  {
   "cell_type": "markdown",
   "metadata": {},
   "source": [
    "### Names:"
   ]
  },
  {
   "cell_type": "markdown",
   "metadata": {},
   "source": []
  },
  {
   "cell_type": "markdown",
   "metadata": {},
   "source": [
    "### Reading Plain Text Files"
   ]
  },
  {
   "cell_type": "markdown",
   "metadata": {},
   "source": [
    "__Q1:__ Create a plain text file in your `Clas29-30` folder named `quotes.txt`.  Enter at least 5 of your favorite quotations into the file.  Put the quote on one line and the name of the person to whom the quote is attributed on the next line.  For example the first few lines of the file might be:\n",
    ">Sometimes it is the people no one can imagine anything of who do the things no one can imagine.  \n",
    ">Alan Turing  \n",
    ">Fish are friends, not food.  \n",
    ">Bruce the Shark  \n",
    ">..."
   ]
  },
  {
   "cell_type": "markdown",
   "metadata": {},
   "source": [
    "__Q2:__ Write Python statements that open the `quotes.txt` file, read and print the first line of the file and then close the file."
   ]
  },
  {
   "cell_type": "code",
   "execution_count": null,
   "metadata": {},
   "outputs": [],
   "source": []
  },
  {
   "cell_type": "markdown",
   "metadata": {},
   "source": [
    "__Q3:__ Write a program that prints out all of the lines in the `quotes.txt` file."
   ]
  },
  {
   "cell_type": "code",
   "execution_count": null,
   "metadata": {},
   "outputs": [],
   "source": []
  },
  {
   "cell_type": "markdown",
   "metadata": {},
   "source": [
    "__Q4:__ Write a program that prints the total number lines and the total number of characters in your `quotes.txt` file. \n",
    "\n",
    "If you are on a Mac (or linux) you can check your answer using the command `wc quotes.txt` in the Terminal. Use `cd` to get to the directory containing `quotes.txt` then enter the above command.  This runs the `wc` program which will print out the number of lines, the number of words and the number of characters in the file."
   ]
  },
  {
   "cell_type": "markdown",
   "metadata": {},
   "source": [
    "__Q5:__ What type of error occurs if you attempt to open a file that does not exist?"
   ]
  },
  {
   "cell_type": "markdown",
   "metadata": {},
   "source": []
  },
  {
   "cell_type": "markdown",
   "metadata": {},
   "source": [
    "__Q6:__ What type of error occurs if you attempt to read from a file after it has been closed?"
   ]
  },
  {
   "cell_type": "markdown",
   "metadata": {},
   "source": []
  },
  {
   "cell_type": "markdown",
   "metadata": {},
   "source": [
    "### Searching a File\n",
    "\n",
    "Then next few exercises use the `words.txt` file that is included in the `Class29-30` folder. This is a list of 113,809 recognized words that are valid for word games like Scrabble, crossword puzzles and other word games. This file was created by Grady Ward for the [Moby project](http://wikipedia.org/wiki/Moby_Project) and is now hosted on [the Grady Ward page](https://www.gutenberg.org/ebooks/author/1132) at [Project Gutenberg](https://www.gutenberg.org/wiki/Main_Page).  There are a number of other interesting text files that Grady had created available on that site and we'll use another later."
   ]
  },
  {
   "cell_type": "markdown",
   "metadata": {},
   "source": [
    "__Q7:__ Write a program that reads and prints out the first 10 words in the `words.txt` file."
   ]
  },
  {
   "cell_type": "code",
   "execution_count": null,
   "metadata": {},
   "outputs": [],
   "source": []
  },
  {
   "cell_type": "markdown",
   "metadata": {},
   "source": [
    "__Q8:__ Write a program that checks a word is valid for Scrabble.  The program:\n",
    "- prompts the user for a word\n",
    "- searches for it in the `words.txt` file\n",
    "- prints out if the word is valid or not.\n",
    "\n",
    "Encapsulate the functionality of searching for the word into its own function that returns `True` if the word is found and `False` if the word is not found. "
   ]
  },
  {
   "cell_type": "code",
   "execution_count": null,
   "metadata": {},
   "outputs": [],
   "source": []
  },
  {
   "cell_type": "markdown",
   "metadata": {},
   "source": [
    "__Q9:__ Write a program that prompts the user for a suffix and then prints all of the words in `words.txt` that end with that suffix. "
   ]
  },
  {
   "cell_type": "code",
   "execution_count": null,
   "metadata": {},
   "outputs": [],
   "source": []
  },
  {
   "cell_type": "markdown",
   "metadata": {},
   "source": [
    "### Splitting Strings"
   ]
  },
  {
   "cell_type": "markdown",
   "metadata": {},
   "source": [
    "__Q10:__ Consider the following `String` variables:"
   ]
  },
  {
   "cell_type": "code",
   "execution_count": null,
   "metadata": {
    "deletable": false,
    "editable": false
   },
   "outputs": [],
   "source": [
    "s1 = \"Grits ain’t grocery Eggs ain’t poultry And Mona Lisa was a man\"\n",
    "s2 = \"Everything gonna be alright this mornin'\"\n",
    "s3 = \"Born under a bad sign been down since I began to crawl\""
   ]
  },
  {
   "cell_type": "markdown",
   "metadata": {},
   "source": [
    "Write Python statements that use the `split` method and the `[ ]` notation to print out:\n",
    "- The 6th word (index 5) of `s1`\n",
    "- The last word of `s2`\n",
    "- The first word of `s3`"
   ]
  },
  {
   "cell_type": "code",
   "execution_count": null,
   "metadata": {},
   "outputs": [],
   "source": []
  },
  {
   "cell_type": "markdown",
   "metadata": {},
   "source": [
    "__Q11:__ Write a program that prints out the words in your `quotes.txt` file one per line. Hint: In the body of a loop that reads the lines add a loop that iterates over the line split into words."
   ]
  },
  {
   "cell_type": "code",
   "execution_count": null,
   "metadata": {},
   "outputs": [],
   "source": []
  },
  {
   "cell_type": "markdown",
   "metadata": {},
   "source": [
    "__Q12:__ Copy your program from __Q4__ and extend it to print out the number of words in your `quotes.txt` file as well as the number of lines and the number of characters.  You can also check this result against the output of the `wc` program in the Terminal."
   ]
  },
  {
   "cell_type": "code",
   "execution_count": null,
   "metadata": {},
   "outputs": [],
   "source": []
  },
  {
   "cell_type": "markdown",
   "metadata": {},
   "source": [
    "__Q13:__ The `split` method had another form that allows you to specify a *delimiter*.  A delimiter is a `String` that indicates where the splits should occur.  This allows the `split` method to be used to split up a string at points other than where there are spaces.  For example: `line.split(',')` will split the line at each comma.  What will the following program print:\n",
    "```Python\n",
    "s = 'This#is#a#different#type#of#delimiter'\n",
    "words=s.split('#')\n",
    "print(words[3])\n",
    "```"
   ]
  },
  {
   "cell_type": "markdown",
   "metadata": {},
   "source": []
  },
  {
   "cell_type": "markdown",
   "metadata": {},
   "source": [
    "__Q14:__ Delimiters can be more than one character in length as well.  What would the program in __Q13__ print if the delimiter had been `'#d'`.  If you are unsure... try it!"
   ]
  },
  {
   "cell_type": "markdown",
   "metadata": {},
   "source": []
  },
  {
   "cell_type": "markdown",
   "metadata": {},
   "source": [
    "### A Thesaurus\n",
    "\n",
    "Then next few exercises use the `mthesaur.txt` file that is included in the `Class29-30` folder. This file, which  contains 30,260 root words with a total of 2,520,264 synonyms, was also created by Grady Ward and can be found on [his Project Gutenberg page](https://www.gutenberg.org/ebooks/author/1132).  \n",
    "\n",
    "Each line in this file begins with a root word. The root word is followed by a `,` and then a `,` delimited list of synonyms.  For example:\n",
    ">unstoppable,certain,fated,fateful,indefeasible,ineluctable,inescapable,inevasible,inevitable,inexorable,inflexible,irresistible,irrevocable,necessary,relentless,resistless,sure,sure as death,sure as fate,unavoidable,uncontrollable,undeflectable,unpreventable,unyielding\n",
    "\n",
    "Here the root word is `unstoppable` and the remaining words are synonyms (or synonymous phrases)."
   ]
  },
  {
   "cell_type": "markdown",
   "metadata": {},
   "source": [
    "__Q15:___ Write statements that open the `mthesaur.txt` file, and print the first root word followed by the first synonym for that root word and close the file."
   ]
  },
  {
   "cell_type": "code",
   "execution_count": null,
   "metadata": {},
   "outputs": [],
   "source": []
  },
  {
   "cell_type": "markdown",
   "metadata": {},
   "source": [
    "__Q16:__ Write a program that works like a thesaurus. It should:\n",
    "- Prompt the user for a word, or an empty line to quit.\n",
    "- Print out all of the synonyms for the word, one per line, or `Sorry. Your word was not found.`\n",
    "- Prompt the user for another word."
   ]
  },
  {
   "cell_type": "code",
   "execution_count": null,
   "metadata": {},
   "outputs": [],
   "source": []
  },
  {
   "cell_type": "markdown",
   "metadata": {},
   "source": [
    "### Optional Challenges"
   ]
  },
  {
   "cell_type": "markdown",
   "metadata": {},
   "source": [
    "__Q17:__ Write a crossword puzzle cheating program in a file named `xwordcheat.py`.  This program will:\n",
    "- Prompt the user for a string with a format like: `m,3:p,4:e,7`. This string indicates that you are looking for a word where the 3rd (index 2) letter is `m`, the 4th letter is `p` and the 7th letter is `e`.\n",
    "- Print out all words from `words.txt` that match the requirements."
   ]
  },
  {
   "cell_type": "code",
   "execution_count": null,
   "metadata": {},
   "outputs": [],
   "source": []
  },
  {
   "cell_type": "markdown",
   "metadata": {},
   "source": [
    "![Stop sign](stop.png)\n",
    "End of Class 29 material."
   ]
  },
  {
   "cell_type": "markdown",
   "metadata": {},
   "source": [
    "### Opening Plain Text Files for Writing"
   ]
  },
  {
   "cell_type": "markdown",
   "metadata": {},
   "source": [
    "__Q18:__ Rearrange the statements below into a program that creates a plain text file containing the text:\n",
    "```\n",
    "one\n",
    "three two\n",
    "four\n",
    "```\n",
    "\n",
    "```Python\n",
    "num_file.write(nums[2] + ' ')\n",
    "num_file.close()\n",
    "num_file.write(nums[0] + '\\n')\n",
    "num_line = 'one,two,three,four'\n",
    "nums = num_line.split(',')\n",
    "num_file.write(nums[1])\n",
    "num_file = open('numbers.txt','w')\n",
    "num_file.write(nums[3])\n",
    "num_file.write('\\n')\n",
    "```\n",
    "\n",
    "Open the `numbers.txt` file in a text editor to see if you have it right."
   ]
  },
  {
   "cell_type": "code",
   "execution_count": null,
   "metadata": {},
   "outputs": [],
   "source": []
  },
  {
   "cell_type": "markdown",
   "metadata": {},
   "source": [
    "__Q19:__ What happens if you open a file that already exists for writing, write some text to it and close it?  Try it by writing statements that open the file from __Q18__ and write some new text into the file.  Then open the file in a text editor to see what happened."
   ]
  },
  {
   "cell_type": "markdown",
   "metadata": {},
   "source": []
  },
  {
   "cell_type": "markdown",
   "metadata": {},
   "source": [
    "__Q20:__ What happens if you open a file that already exists using the argument `a` in place of `w`, write some text to it and close it? Try it out in the same way you did in __Q19__."
   ]
  },
  {
   "cell_type": "code",
   "execution_count": null,
   "metadata": {},
   "outputs": [],
   "source": []
  },
  {
   "cell_type": "markdown",
   "metadata": {},
   "source": [
    "__Q21:__ Write a program that writes a file containing 4 columns of data in `csv` format.  The four columns are:\n",
    "- x\n",
    "- x^2\n",
    "- x^3\n",
    "- x^4\n",
    "\n",
    "The file should have a header row labeling the columns and then one row for each x value from 0 to 100.  The first few rows of the file should be:\n",
    "```\n",
    "x,x^2,x^3,x^4  \n",
    "0,0,0,0  \n",
    "1,1,1,1  \n",
    "2,4,8,16  \n",
    "...\n",
    "```\n",
    "Open the file using JupyterLab or Excel to see it nicely formatted into columns. "
   ]
  },
  {
   "cell_type": "code",
   "execution_count": null,
   "metadata": {},
   "outputs": [],
   "source": []
  },
  {
   "cell_type": "markdown",
   "metadata": {},
   "source": [
    "### Reading and Writing Text Files"
   ]
  },
  {
   "cell_type": "markdown",
   "metadata": {},
   "source": [
    "__Q22:__ Write a `file_copy` function.  The function should take two `String`s as parameters, the name of the file to be copied and the name that should be given to the copy.  The function should use the basic file reading and writing techniques we've learned to make an exact copy of the file to be copied into a file with the speified name.  Include a call to your function that copies your `quotes.txt` file into a file named `quotes.bak` (i.e. a backup file)."
   ]
  },
  {
   "cell_type": "code",
   "execution_count": null,
   "metadata": {},
   "outputs": [],
   "source": []
  },
  {
   "cell_type": "markdown",
   "metadata": {},
   "source": [
    "__Q23:__ Write a program that extracts just the name of the _quotee_ for each of your quotes in `quotes.txt` and writes their names into a file named `quotees.txt`."
   ]
  },
  {
   "cell_type": "code",
   "execution_count": null,
   "metadata": {},
   "outputs": [],
   "source": []
  },
  {
   "cell_type": "markdown",
   "metadata": {},
   "source": [
    "### Using File Paths"
   ]
  },
  {
   "cell_type": "markdown",
   "metadata": {},
   "source": [
    "__Q24:__ Using a Terminal and the `pwd` command determine the current working directory for this notebook."
   ]
  },
  {
   "cell_type": "code",
   "execution_count": null,
   "metadata": {},
   "outputs": [],
   "source": []
  },
  {
   "cell_type": "markdown",
   "metadata": {},
   "source": [
    "__Q25:__ The `mkdir` command can be used to create new directories in the Terminal.  For example, the command `mkdir places` will create a new sub-directory named `places` in whatever directory it is used in.  Using a Terminal and the `mkdir` command create a new sub-directory in your `Class29-30` folder.  Call the sub-directory whatever you like.  What is the absolute path to your new sub-directory?"
   ]
  },
  {
   "cell_type": "markdown",
   "metadata": {},
   "source": []
  },
  {
   "cell_type": "markdown",
   "metadata": {},
   "source": [
    "__Q26:__ Create a new text file in the sub-directory that you created in __Q25__ and fill it with at least 5 of your favorite song lyrics using a format like we did for quotes.  Call the text file whatever you like.  For example the first few lines might be:\n",
    ">Grits ain’t grocery, Eggs ain’t poultry, And Mona Lisa was a man  \n",
    ">Muddy Waters  \n",
    ">Everything gonna be alright this mornin'  \n",
    ">Little Milton  \n",
    ">..."
   ]
  },
  {
   "cell_type": "markdown",
   "metadata": {},
   "source": [
    "__Q27__ What is the *absolute path* to the new file you created in __Q25__?"
   ]
  },
  {
   "cell_type": "markdown",
   "metadata": {},
   "source": []
  },
  {
   "cell_type": "markdown",
   "metadata": {},
   "source": [
    "__Q28:__ What is the *relative path* from the `Class29-30` folder to the new file you created in __Q25__?"
   ]
  },
  {
   "cell_type": "markdown",
   "metadata": {},
   "source": []
  },
  {
   "cell_type": "markdown",
   "metadata": {},
   "source": [
    "__Q29:__ Write statements that use a *relative path* to open your file from __Q25__, read the first line, print it and then close the file."
   ]
  },
  {
   "cell_type": "code",
   "execution_count": null,
   "metadata": {},
   "outputs": [],
   "source": []
  },
  {
   "cell_type": "markdown",
   "metadata": {},
   "source": [
    "### Processing Data Files\n",
    "\n",
    "The [data.gov](https://www.data.gov/) site is a clearinghouse for open data sets.  It hosts over 250,000 freely available datasets. Many of these datasets are in the `csv` format that we have had experience with.  The next several exercises will give you some practice working with one."
   ]
  },
  {
   "cell_type": "markdown",
   "metadata": {},
   "source": [
    "__Q30:__ Download the _Farmers Markets Directory and Geographic Data_ dataset from Data.gov to your `Class29-30` folder.  You can find this data set by searching on `Data.gov` or by:\n",
    "- Click on the _Agriculture_ icon\n",
    "- Scroll down 5 or so entries to the _Farmers Markets Directory and Geographic Data_ and click on it.\n",
    "- Click on the link under _References_.  Note: Don't click the _Download_ button it doesn't do what you expect.\n",
    "- Move the file that is downloaded (`Export.csv`) into your `Class29-30` folder."
   ]
  },
  {
   "cell_type": "markdown",
   "metadata": {},
   "source": [
    "__Q31:__ Open the `Export.csv` file in JupyterLab to see it nicely formatted into columns. Which columns contain the following data:'\n",
    "- The state in which the market is located?\n",
    "- The city in which the market is located?\n",
    "- The name of the market?"
   ]
  },
  {
   "cell_type": "markdown",
   "metadata": {},
   "source": []
  },
  {
   "cell_type": "markdown",
   "metadata": {},
   "source": [
    "__Q32:__ Write statements that open the `Export.csv` file for reading, read the first line, print the state, city and the name of the market, and then close the file."
   ]
  },
  {
   "cell_type": "code",
   "execution_count": null,
   "metadata": {},
   "outputs": [],
   "source": []
  },
  {
   "cell_type": "markdown",
   "metadata": {},
   "source": [
    "__Q33:__ Write a program that prompt the user for the name of a state and then creates a new `csv` file for that state that has one line for each market in that state.  The line for each market should list just the name of the market and the city in which the market is in.  For example, for _Pennyslvania_  some of the lines of the output file would be:\n",
    "\n",
    ">18th and Christian Farmers' Market,Philadelphia  \n",
    ">22nd and Tasker Farmers' Market,Philadelphia  \n",
    ">...  \n",
    ">Carlisle Farmers Market,Carlisle  \n",
    ">...\n"
   ]
  },
  {
   "cell_type": "code",
   "execution_count": null,
   "metadata": {},
   "outputs": [],
   "source": []
  },
  {
   "cell_type": "markdown",
   "metadata": {},
   "source": [
    "### Optional Challenges"
   ]
  },
  {
   "cell_type": "markdown",
   "metadata": {},
   "source": [
    "__Q34:__ Modify your program from __Q22__ so that if the file being copied into already exists the user is prompted to cancel or overwrite the existing file. Hint: Use one of the methods from the `os` module to check if the file being copied into exits."
   ]
  },
  {
   "cell_type": "code",
   "execution_count": null,
   "metadata": {},
   "outputs": [],
   "source": []
  },
  {
   "cell_type": "markdown",
   "metadata": {},
   "source": [
    "__Q35:__ Write a program that *thesaurisizes* your `quotes.txt` file into a file named `mangled-quotes.txt`.  This program should read the `quotes.txt` file and for each quote, each word should be replaced with a random synonym from the `mthesaur.txt` file. If a word is not in the `mthesaur.txt` file it should appear unchanged in the new file."
   ]
  },
  {
   "cell_type": "code",
   "execution_count": null,
   "metadata": {},
   "outputs": [],
   "source": []
  }
 ],
 "metadata": {
  "kernelspec": {
   "display_name": "Python 3",
   "language": "python",
   "name": "python3"
  },
  "language_info": {
   "codemirror_mode": {
    "name": "ipython",
    "version": 3
   },
   "file_extension": ".py",
   "mimetype": "text/x-python",
   "name": "python",
   "nbconvert_exporter": "python",
   "pygments_lexer": "ipython3",
   "version": "3.7.3"
  }
 },
 "nbformat": 4,
 "nbformat_minor": 2
}
